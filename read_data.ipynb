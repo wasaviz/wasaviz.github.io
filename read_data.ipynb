{
 "cells": [
  {
   "cell_type": "code",
   "execution_count": 1,
   "metadata": {},
   "outputs": [],
   "source": [
    "import pandas as pd\n",
    "import datetime"
   ]
  },
  {
   "cell_type": "code",
   "execution_count": null,
   "metadata": {},
   "outputs": [],
   "source": [
    "data = pd.read_csv('donnees-synop-essentielles-omm.csv', sep=';', low_memory=False)\n",
    "newData = pd.DataFrame({\n",
    "    'Date': pd.to_datetime(data['Date'], infer_datetime_format=True),\n",
    "    'IDStation': data['ID OMM station'],\n",
    "    'Temperature': data['Temperature'] - 273,\n",
    "    'Coordonnees': data['Coordonnees'],\n",
    "    'NomLieu': data['Nom'],\n",
    "    'VitesseVent': data['Vitesse du vent moyen 10 mn'],\n",
    "    'Pluie1': data['Précipitations dans la dernière heure'],\n",
    "    'Pluie3': data['Précipitations dans les 3 dernières heures'],\n",
    "    'Pluie6': data['Précipitations dans les 6 dernières heures'],\n",
    "    'Pluie12': data['Précipitations dans les 12 dernières heures'],\n",
    "    'Pluie24': data['Précipitations dans les 24 dernières heures'],\n",
    "    'Neige': data['Hauteur totale de la couche de neige, glace, autre au sol'],\n",
    "    'NeigeFraiche': data['Hauteur de la neige fraîche'],\n",
    "    'Coordonnees': data['Coordonnees']\n",
    "})\n",
    "newData = newData.fillna(0)\n",
    "newData.head()"
   ]
  },
  {
   "cell_type": "code",
   "execution_count": null,
   "metadata": {},
   "outputs": [],
   "source": [
    "newData = newData.groupby([pd.Grouper(key='NomLieu'), pd.Grouper(key='Date', freq='M')]).mean()\n",
    "newData.head()"
   ]
  },
  {
   "cell_type": "code",
   "execution_count": null,
   "metadata": {},
   "outputs": [],
   "source": [
    "newData.to_csv('newData.csv')"
   ]
  },
  {
   "cell_type": "code",
   "execution_count": null,
   "metadata": {},
   "outputs": [],
   "source": []
  }
 ],
 "metadata": {
  "kernelspec": {
   "display_name": "Python 3",
   "language": "python",
   "name": "python3"
  },
  "language_info": {
   "codemirror_mode": {
    "name": "ipython",
    "version": 3
   },
   "file_extension": ".py",
   "mimetype": "text/x-python",
   "name": "python",
   "nbconvert_exporter": "python",
   "pygments_lexer": "ipython3",
   "version": "3.7.0"
  }
 },
 "nbformat": 4,
 "nbformat_minor": 2
}
