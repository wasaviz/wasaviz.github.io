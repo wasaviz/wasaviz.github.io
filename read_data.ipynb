{
 "cells": [
  {
   "cell_type": "code",
   "execution_count": 19,
   "metadata": {},
   "outputs": [],
   "source": [
    "import pandas as pd\n",
    "import datetime"
   ]
  },
  {
   "cell_type": "code",
   "execution_count": 11,
   "metadata": {},
   "outputs": [
    {
     "data": {
      "text/plain": [
       "Index(['ID OMM station', 'Date', 'Pression au niveau mer',\n",
       "       'Variation de pression en 3 heures', 'Type de tendance barométrique',\n",
       "       'Direction du vent moyen 10 mn', 'Vitesse du vent moyen 10 mn',\n",
       "       'Temperature', 'Point de rosée', 'Humidité', 'Visibilité horizontale',\n",
       "       'Temps présent', 'Temps passé 1', 'Temps passé 2', 'Nebulosité totale',\n",
       "       'Nébulosité  des nuages de l' étage inférieur',\n",
       "       'Hauteur de la base des nuages de l'étage inférieur',\n",
       "       'Type des nuages de l'étage inférieur',\n",
       "       'Type des nuages de l'étage moyen',\n",
       "       'Type des nuages de l'étage supérieur', 'Pression station',\n",
       "       'Niveau barométrique', 'Géopotentiel',\n",
       "       'Variation de pression en 24 heures',\n",
       "       'Température minimale sur 12 heures',\n",
       "       'Température minimale sur 24 heures',\n",
       "       'Température maximale sur 12 heures',\n",
       "       'Température maximale sur 24 heures',\n",
       "       'Température minimale du sol sur 12 heures',\n",
       "       'Méthode de mesure Température du thermomètre mouillé',\n",
       "       'Température du thermomètre mouillé',\n",
       "       'Rafale sur les 10 dernières minutes', 'Rafales sur une période',\n",
       "       'Periode de mesure de la rafale', 'Etat du sol',\n",
       "       'Hauteur totale de la couche de neige, glace, autre au sol',\n",
       "       'Hauteur de la neige fraîche', 'Periode de mesure de la neige fraiche',\n",
       "       'Précipitations dans la dernière heure',\n",
       "       'Précipitations dans les 3 dernières heures',\n",
       "       'Précipitations dans les 6 dernières heures',\n",
       "       'Précipitations dans les 12 dernières heures',\n",
       "       'Précipitations dans les 24 dernières heures', 'Phénomène spécial 1',\n",
       "       'Phénomène spécial 2', 'Phénomène spécial 3', 'Phénomène spécial 4',\n",
       "       'Nébulosité couche nuageuse 1', 'Type nuage 1', 'Hauteur de base 1',\n",
       "       'Nébulosité couche nuageuse 2', 'Type nuage 2', 'Hauteur de base 2',\n",
       "       'Nébulosité couche nuageuse 3', 'Type nuage 3', 'Hauteur de base 3',\n",
       "       'Nébulosité couche nuageuse 4', 'Type nuage 4', 'Hauteur de base 4',\n",
       "       'Coordonnees', 'Nom', 'Type de tendance barométrique.1',\n",
       "       'Temps passé 1.1', 'Temps présent.1'],\n",
       "      dtype='object')"
      ]
     },
     "execution_count": 11,
     "metadata": {},
     "output_type": "execute_result"
    }
   ],
   "source": [
    "data = pd.read_csv('donnees-synop-essentielles-omm.csv', sep=';', low_memory=False)\n",
    "data.columns"
   ]
  },
  {
   "cell_type": "code",
   "execution_count": 77,
   "metadata": {},
   "outputs": [
    {
     "data": {
      "text/html": [
       "<div>\n",
       "<style scoped>\n",
       "    .dataframe tbody tr th:only-of-type {\n",
       "        vertical-align: middle;\n",
       "    }\n",
       "\n",
       "    .dataframe tbody tr th {\n",
       "        vertical-align: top;\n",
       "    }\n",
       "\n",
       "    .dataframe thead th {\n",
       "        text-align: right;\n",
       "    }\n",
       "</style>\n",
       "<table border=\"1\" class=\"dataframe\">\n",
       "  <thead>\n",
       "    <tr style=\"text-align: right;\">\n",
       "      <th></th>\n",
       "      <th>Date</th>\n",
       "      <th>IDStation</th>\n",
       "      <th>Temperature</th>\n",
       "      <th>Coordonnees</th>\n",
       "      <th>NomLieu</th>\n",
       "      <th>VitesseVent</th>\n",
       "      <th>Pluie1</th>\n",
       "      <th>Pluie3</th>\n",
       "      <th>Pluie6</th>\n",
       "      <th>Pluie12</th>\n",
       "      <th>Pluie24</th>\n",
       "      <th>Neige</th>\n",
       "      <th>NeigeFraiche</th>\n",
       "    </tr>\n",
       "  </thead>\n",
       "  <tbody>\n",
       "    <tr>\n",
       "      <th>0</th>\n",
       "      <td>2018-08-08 09:00:00</td>\n",
       "      <td>7168</td>\n",
       "      <td>22.35</td>\n",
       "      <td>48.324667, 4.02</td>\n",
       "      <td>TROYES-BARBEREY</td>\n",
       "      <td>3.2</td>\n",
       "      <td>0.0</td>\n",
       "      <td>0.0</td>\n",
       "      <td>0.0</td>\n",
       "      <td>10.2</td>\n",
       "      <td>10.2</td>\n",
       "      <td>0.0</td>\n",
       "      <td>NaN</td>\n",
       "    </tr>\n",
       "    <tr>\n",
       "      <th>1</th>\n",
       "      <td>2018-08-08 12:00:00</td>\n",
       "      <td>7037</td>\n",
       "      <td>22.65</td>\n",
       "      <td>49.383, 1.181667</td>\n",
       "      <td>ROUEN-BOOS</td>\n",
       "      <td>4.7</td>\n",
       "      <td>0.0</td>\n",
       "      <td>0.0</td>\n",
       "      <td>0.0</td>\n",
       "      <td>0.0</td>\n",
       "      <td>4.2</td>\n",
       "      <td>0.0</td>\n",
       "      <td>NaN</td>\n",
       "    </tr>\n",
       "    <tr>\n",
       "      <th>2</th>\n",
       "      <td>2018-08-08 12:00:00</td>\n",
       "      <td>7149</td>\n",
       "      <td>25.65</td>\n",
       "      <td>48.716833, 2.384333</td>\n",
       "      <td>ORLY</td>\n",
       "      <td>4.4</td>\n",
       "      <td>0.0</td>\n",
       "      <td>0.0</td>\n",
       "      <td>0.0</td>\n",
       "      <td>-0.1</td>\n",
       "      <td>-0.1</td>\n",
       "      <td>0.0</td>\n",
       "      <td>NaN</td>\n",
       "    </tr>\n",
       "    <tr>\n",
       "      <th>3</th>\n",
       "      <td>2018-08-08 12:00:00</td>\n",
       "      <td>7299</td>\n",
       "      <td>28.85</td>\n",
       "      <td>47.614333, 7.51</td>\n",
       "      <td>BALE-MULHOUSE</td>\n",
       "      <td>3.7</td>\n",
       "      <td>0.0</td>\n",
       "      <td>0.0</td>\n",
       "      <td>0.0</td>\n",
       "      <td>0.2</td>\n",
       "      <td>0.2</td>\n",
       "      <td>0.0</td>\n",
       "      <td>0.0</td>\n",
       "    </tr>\n",
       "    <tr>\n",
       "      <th>4</th>\n",
       "      <td>2018-08-08 12:00:00</td>\n",
       "      <td>7630</td>\n",
       "      <td>27.75</td>\n",
       "      <td>43.621, 1.378833</td>\n",
       "      <td>TOULOUSE-BLAGNAC</td>\n",
       "      <td>2.2</td>\n",
       "      <td>0.0</td>\n",
       "      <td>0.0</td>\n",
       "      <td>0.0</td>\n",
       "      <td>0.0</td>\n",
       "      <td>-0.1</td>\n",
       "      <td>0.0</td>\n",
       "      <td>NaN</td>\n",
       "    </tr>\n",
       "  </tbody>\n",
       "</table>\n",
       "</div>"
      ],
      "text/plain": [
       "                 Date  IDStation  Temperature          Coordonnees  \\\n",
       "0 2018-08-08 09:00:00       7168        22.35      48.324667, 4.02   \n",
       "1 2018-08-08 12:00:00       7037        22.65     49.383, 1.181667   \n",
       "2 2018-08-08 12:00:00       7149        25.65  48.716833, 2.384333   \n",
       "3 2018-08-08 12:00:00       7299        28.85      47.614333, 7.51   \n",
       "4 2018-08-08 12:00:00       7630        27.75     43.621, 1.378833   \n",
       "\n",
       "            NomLieu  VitesseVent  Pluie1  Pluie3  Pluie6  Pluie12  Pluie24  \\\n",
       "0   TROYES-BARBEREY          3.2     0.0     0.0     0.0     10.2     10.2   \n",
       "1        ROUEN-BOOS          4.7     0.0     0.0     0.0      0.0      4.2   \n",
       "2              ORLY          4.4     0.0     0.0     0.0     -0.1     -0.1   \n",
       "3     BALE-MULHOUSE          3.7     0.0     0.0     0.0      0.2      0.2   \n",
       "4  TOULOUSE-BLAGNAC          2.2     0.0     0.0     0.0      0.0     -0.1   \n",
       "\n",
       "   Neige  NeigeFraiche  \n",
       "0    0.0           NaN  \n",
       "1    0.0           NaN  \n",
       "2    0.0           NaN  \n",
       "3    0.0           0.0  \n",
       "4    0.0           NaN  "
      ]
     },
     "execution_count": 77,
     "metadata": {},
     "output_type": "execute_result"
    }
   ],
   "source": [
    "newData = pd.DataFrame({\n",
    "    'Date': pd.to_datetime(data['Date'], infer_datetime_format=True),\n",
    "    'IDStation': data['ID OMM station'],\n",
    "    'Temperature': data['Temperature'] - 273,\n",
    "    'Coordonnees': data['Coordonnees'],\n",
    "    'NomLieu': data['Nom'],\n",
    "    'VitesseVent': data['Vitesse du vent moyen 10 mn'],\n",
    "    'Pluie1': data['Précipitations dans la dernière heure'],\n",
    "    'Pluie3': data['Précipitations dans les 3 dernières heures'],\n",
    "    'Pluie6': data['Précipitations dans les 6 dernières heures'],\n",
    "    'Pluie12': data['Précipitations dans les 12 dernières heures'],\n",
    "    'Pluie24': data['Précipitations dans les 24 dernières heures'],\n",
    "    'Neige': data['Hauteur totale de la couche de neige, glace, autre au sol'],\n",
    "    'NeigeFraiche': data['Hauteur de la neige fraîche']\n",
    "})\n",
    "newData.head()"
   ]
  },
  {
   "cell_type": "code",
   "execution_count": 89,
   "metadata": {},
   "outputs": [
    {
     "data": {
      "text/plain": [
       "<matplotlib.axes._subplots.AxesSubplot at 0x24cebbcc0>"
      ]
     },
     "execution_count": 89,
     "metadata": {},
     "output_type": "execute_result"
    },
    {
     "data": {
      "image/png": "[encoded data removed]",
      "text/plain": [
       "<Figure size 432x288 with 1 Axes>"
      ]
     },
     "metadata": {
      "needs_background": "light"
     },
     "output_type": "display_data"
    }
   ],
   "source": [
    "newData[(newData.IDStation == 7149) & (newData.Date > '2018-01-01')].plot('Date', 'VitesseVent')"
   ]
  },
  {
   "cell_type": "code",
   "execution_count": 85,
   "metadata": {},
   "outputs": [],
   "source": [
    "newData.to_csv('newData.csv')"
   ]
  },
  {
   "cell_type": "code",
   "execution_count": null,
   "metadata": {},
   "outputs": [],
   "source": []
  }
 ],
 "metadata": {
  "kernelspec": {
   "display_name": "Python 3",
   "language": "python",
   "name": "python3"
  },
  "language_info": {
   "codemirror_mode": {
    "name": "ipython",
    "version": 3
   },
   "file_extension": ".py",
   "mimetype": "text/x-python",
   "name": "python",
   "nbconvert_exporter": "python",
   "pygments_lexer": "ipython3",
   "version": "3.7.0"
  }
 },
 "nbformat": 4,
 "nbformat_minor": 2
}
